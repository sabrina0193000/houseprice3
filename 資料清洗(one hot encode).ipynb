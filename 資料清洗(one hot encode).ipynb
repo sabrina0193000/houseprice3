{
 "cells": [
  {
   "cell_type": "code",
   "execution_count": 1,
   "metadata": {},
   "outputs": [],
   "source": [
    "import pandas as pd\n",
    "import numpy as np\n",
    "import matplotlib.pyplot as plt\n",
    "import warnings\n",
    "warnings.filterwarnings('ignore')\n",
    "\n",
    "df = pd.read_csv('ETL_house_wayz_final.csv')\n",
    "# df.info()"
   ]
  },
  {
   "cell_type": "code",
   "execution_count": 2,
   "metadata": {},
   "outputs": [],
   "source": [
    "# df.describe()"
   ]
  },
  {
   "cell_type": "code",
   "execution_count": 3,
   "metadata": {},
   "outputs": [],
   "source": [
    "df = df.drop(df[df['建物單價元/坪'] < 10000].index)\n",
    "df.reset_index(drop=True, inplace=True) #index欄位重新排序!!!\n",
    "# df"
   ]
  },
  {
   "cell_type": "code",
   "execution_count": 4,
   "metadata": {},
   "outputs": [
    {
     "data": {
      "text/plain": [
       "0         62.3\n",
       "1         72.5\n",
       "2         38.2\n",
       "3         45.2\n",
       "4         58.6\n",
       "          ... \n",
       "143701    48.8\n",
       "143702    58.0\n",
       "143703    44.4\n",
       "143704    44.5\n",
       "143705    32.8\n",
       "Name: 建物單價元/坪, Length: 143706, dtype: float64"
      ]
     },
     "execution_count": 4,
     "metadata": {},
     "output_type": "execute_result"
    }
   ],
   "source": [
    "\n",
    "df['建物單價元/坪'] = df['建物單價元/坪'].astype('int').apply(lambda x: round(x/10000,1))\n",
    "df['建物單價元/坪']"
   ]
  },
  {
   "cell_type": "code",
   "execution_count": 5,
   "metadata": {},
   "outputs": [],
   "source": [
    "df[\"交易月\"] = df[\"交易年月\"].apply(lambda x : str(int(x.split(\"/\")[1])))\n",
    "df['交易年'] = df['交易年'].astype(object)\n",
    "\n",
    "df = df.drop([\"交易年月\"], axis=1)\n",
    "df = df.drop(['土地區段位置建物區段門牌'],axis=1)"
   ]
  },
  {
   "cell_type": "code",
   "execution_count": 6,
   "metadata": {},
   "outputs": [],
   "source": [
    "# df.dtypes"
   ]
  },
  {
   "cell_type": "code",
   "execution_count": 7,
   "metadata": {},
   "outputs": [
    {
     "name": "stdout",
     "output_type": "stream",
     "text": [
      "lehgth of all featrues : 56\n",
      "\n",
      "length of Numeric Features : 44\n",
      " Numeric Features : ['實質GDP(百萬元)', '房貸負擔比', '房價所得比', '房貸案件樣本數', '消費者物價指數', '出生人口數', '死亡人口數', '總人口數', '出生率', '死亡率', '移出人口數', '移入人口數', '移出人口率', '移入人口率', 'M1B(年增率)', '車位單價', '車位每個/坪', '建築年', '總樓層數', '總價元', '土地移轉總面積(坪)', '建物移轉總面積(坪)', '交易筆棟數_土地', '交易筆棟數_建物', '交易筆棟數_車位', '屋齡', '車位移轉總面積(坪)', '車位總價', '車位總坪數', '建物坪數(已扣除車位坪數)', '墳墓', '殯儀館', '八大行業', '市場', '夜市', '加油站', '機場', '瓦斯槽', '變電所', '垃圾場', '廟宇', '高架道路', '建物價格(已扣除車位總價)', '建物單價元/坪']\n",
      "\n",
      "length of Not Numeric Features : 12\n",
      " Not Numeric Features : ['鄉鎮市區', '交易標的', '都市土地使用分區', '建物型態', '主要用途', '主要建材', '有無管理組織', '車位類別', '土地區段位置建物區段門牌1', '土地區段位置建物區段門牌2', '交易年', '交易月']\n"
     ]
    }
   ],
   "source": [
    "\n",
    "num_features = []\n",
    "notnum_features = []\n",
    "for dtype, feature in zip(df.dtypes, df.columns):\n",
    "    if dtype == 'float64' or dtype == 'int64':\n",
    "        num_features.append(feature)\n",
    "    else:\n",
    "        notnum_features.append(feature)\n",
    "\n",
    "print(f'lehgth of all featrues : {len(df.columns)}\\n')\n",
    "print(f'length of Numeric Features : {len(num_features)}\\n Numeric Features : {num_features}\\n')\n",
    "print(f'length of Not Numeric Features : {len(notnum_features)}\\n Not Numeric Features : {notnum_features}')\n"
   ]
  },
  {
   "cell_type": "code",
   "execution_count": 8,
   "metadata": {},
   "outputs": [
    {
     "name": "stdout",
     "output_type": "stream",
     "text": [
      "10\n",
      "['鄉鎮市區', '交易標的', '都市土地使用分區', '建物型態', '主要建材', '車位類別', '土地區段位置建物區段門牌1', '土地區段位置建物區段門牌2', '交易年', '交易月']\n"
     ]
    }
   ],
   "source": [
    "renum = ['主要用途','有無管理組織']\n",
    "for i in renum:\n",
    "    notnum_features.remove(i)\n",
    "print(len(notnum_features))\n",
    "print(notnum_features)"
   ]
  },
  {
   "cell_type": "code",
   "execution_count": 9,
   "metadata": {},
   "outputs": [
    {
     "name": "stdout",
     "output_type": "stream",
     "text": [
      "32 ['實質GDP(百萬元)', '房貸負擔比', '房價所得比', '房貸案件樣本數', '消費者物價指數', '出生人口數', '死亡人口數', '總人口數', '出生率', '死亡率', '移出人口數', '移入人口數', '移出人口率', '移入人口率', 'M1B(年增率)', '車位單價', '車位每個/坪', '建築年', '總樓層數', '總價元', '土地移轉總面積(坪)', '建物移轉總面積(坪)', '交易筆棟數_土地', '交易筆棟數_建物', '交易筆棟數_車位', '屋齡', '車位移轉總面積(坪)', '車位總價', '車位總坪數', '建物坪數(已扣除車位坪數)', '建物價格(已扣除車位總價)', '建物單價元/坪']\n"
     ]
    }
   ],
   "source": [
    "num1 = ['墳墓', '殯儀館', '八大行業', '市場', '夜市', '加油站',\n",
    "        '機場', '瓦斯槽', '變電所', '垃圾場', '廟宇', '高架道路']\n",
    "\n",
    "for i in num1:\n",
    "    num_features.remove(i)\n",
    "\n",
    "print(len(num_features),num_features)"
   ]
  },
  {
   "cell_type": "code",
   "execution_count": 10,
   "metadata": {},
   "outputs": [],
   "source": [
    "# for i in num_features:\n",
    "#     qt1 = df[i].quantile(q=0.25)\n",
    "#     qt3 = df[i].quantile(q=0.75)\n",
    "#     iqr = qt3-qt1\n",
    "    \n",
    "#     display(df[i][df[i]<(qt1 - 1.5*iqr)]) ###低於下限的離群值!!\n",
    "#     display(df[i][df[i]>(qt3 + 1.5*iqr)]) ###高於上限的離群值!!\n",
    "#     plt.boxplot(df[i])  ###用 matplotlib 畫 boxplot(離群值)\n",
    "#     plt.show()"
   ]
  },
  {
   "cell_type": "markdown",
   "metadata": {},
   "source": [
    "# 離群值處理!!!"
   ]
  },
  {
   "cell_type": "code",
   "execution_count": 11,
   "metadata": {},
   "outputs": [],
   "source": [
    "# import seaborn as sns\n",
    "# from matplotlib.font_manager import FontProperties\n",
    "# prop = FontProperties(fname='C:\\\\Windows\\\\Fonts\\\\msjh.ttc')\n",
    "# sns.set(font=prop.get_family())\n",
    "# sns.set_style(\"whitegrid\",{\"font.sans-serif\":['Microsoft JhengHei']})\n",
    "# #-----------------------設定中文字型-------------------\n",
    "\n",
    "# for i in num_features:\n",
    "#     qt1 = df[i].quantile(q=0.25)\n",
    "#     qt3 = df[i].quantile(q=0.75)\n",
    "#     iqr = qt3-qt1\n",
    "    \n",
    "#     display(df[i][df[i]<(qt1 - 1.5*iqr)]) ###低於下限的離群值!!\n",
    "#     display(df[i][df[i]>(qt3 + 1.5*iqr)]) ###高於上限的離群值!!\n",
    "#     plt.boxplot(df[i])  ###用 matplotlib 畫 boxplot(離群值)\n",
    "#     plt.show()"
   ]
  },
  {
   "cell_type": "code",
   "execution_count": 12,
   "metadata": {},
   "outputs": [
    {
     "data": {
      "image/png": "[encoded data removed]",
      "text/plain": [
       "<Figure size 432x288 with 1 Axes>"
      ]
     },
     "metadata": {},
     "output_type": "display_data"
    },
    {
     "data": {
      "image/png": "[encoded data removed]",
      "text/plain": [
       "<Figure size 432x288 with 1 Axes>"
      ]
     },
     "metadata": {},
     "output_type": "display_data"
    },
    {
     "data": {
      "image/png": "[encoded data removed]",
      "text/plain": [
       "<Figure size 432x288 with 1 Axes>"
      ]
     },
     "metadata": {},
     "output_type": "display_data"
    },
    {
     "data": {
      "image/png": "[encoded data removed]",
      "text/plain": [
       "<Figure size 432x288 with 1 Axes>"
      ]
     },
     "metadata": {},
     "output_type": "display_data"
    },
    {
     "data": {
      "image/png": "[encoded data removed]",
      "text/plain": [
       "<Figure size 432x288 with 1 Axes>"
      ]
     },
     "metadata": {},
     "output_type": "display_data"
    },
    {
     "data": {
      "image/png": "[encoded data removed]",
      "text/plain": [
       "<Figure size 432x288 with 1 Axes>"
      ]
     },
     "metadata": {},
     "output_type": "display_data"
    },
    {
     "data": {
      "image/png": "[encoded data removed]",
      "text/plain": [
       "<Figure size 432x288 with 1 Axes>"
      ]
     },
     "metadata": {},
     "output_type": "display_data"
    },
    {
     "data": {
      "image/png": "[encoded data removed]",
      "text/plain": [
       "<Figure size 432x288 with 1 Axes>"
      ]
     },
     "metadata": {},
     "output_type": "display_data"
    },
    {
     "data": {
      "image/png": "[encoded data removed]",
      "text/plain": [
       "<Figure size 432x288 with 1 Axes>"
      ]
     },
     "metadata": {},
     "output_type": "display_data"
    },
    {
     "data": {
      "image/png": "[encoded data removed]",
      "text/plain": [
       "<Figure size 432x288 with 1 Axes>"
      ]
     },
     "metadata": {},
     "output_type": "display_data"
    },
    {
     "data": {
      "image/png": "[encoded data removed]",
      "text/plain": [
       "<Figure size 432x288 with 1 Axes>"
      ]
     },
     "metadata": {},
     "output_type": "display_data"
    },
    {
     "data": {
      "image/png": "[encoded data removed]",
      "text/plain": [
       "<Figure size 432x288 with 1 Axes>"
      ]
     },
     "metadata": {},
     "output_type": "display_data"
    },
    {
     "data": {
      "image/png": "[encoded data removed]",
      "text/plain": [
       "<Figure size 432x288 with 1 Axes>"
      ]
     },
     "metadata": {},
     "output_type": "display_data"
    },
    {
     "data": {
      "image/png": "[encoded data removed]",
      "text/plain": [
       "<Figure size 432x288 with 1 Axes>"
      ]
     },
     "metadata": {},
     "output_type": "display_data"
    },
    {
     "data": {
      "image/png": "[encoded data removed]",
      "text/plain": [
       "<Figure size 432x288 with 1 Axes>"
      ]
     },
     "metadata": {},
     "output_type": "display_data"
    },
    {
     "data": {
      "image/png": "[encoded data removed]",
      "text/plain": [
       "<Figure size 432x288 with 1 Axes>"
      ]
     },
     "metadata": {},
     "output_type": "display_data"
    },
    {
     "data": {
      "image/png": "[encoded data removed]",
      "text/plain": [
       "<Figure size 432x288 with 1 Axes>"
      ]
     },
     "metadata": {},
     "output_type": "display_data"
    },
    {
     "data": {
      "image/png": "[encoded data removed]",
      "text/plain": [
       "<Figure size 432x288 with 1 Axes>"
      ]
     },
     "metadata": {},
     "output_type": "display_data"
    },
    {
     "data": {
      "image/png": "[encoded data removed]",
      "text/plain": [
       "<Figure size 432x288 with 1 Axes>"
      ]
     },
     "metadata": {},
     "output_type": "display_data"
    },
    {
     "data": {
      "image/png": "[encoded data removed]",
      "text/plain": [
       "<Figure size 432x288 with 1 Axes>"
      ]
     },
     "metadata": {},
     "output_type": "display_data"
    },
    {
     "data": {
      "image/png": "[encoded data removed]",
      "text/plain": [
       "<Figure size 432x288 with 1 Axes>"
      ]
     },
     "metadata": {},
     "output_type": "display_data"
    },
    {
     "data": {
      "image/png": "[encoded data removed]",
      "text/plain": [
       "<Figure size 432x288 with 1 Axes>"
      ]
     },
     "metadata": {},
     "output_type": "display_data"
    },
    {
     "data": {
      "image/png": "[encoded data removed]",
      "text/plain": [
       "<Figure size 432x288 with 1 Axes>"
      ]
     },
     "metadata": {},
     "output_type": "display_data"
    },
    {
     "data": {
      "image/png": "[encoded data removed]",
      "text/plain": [
       "<Figure size 432x288 with 1 Axes>"
      ]
     },
     "metadata": {},
     "output_type": "display_data"
    },
    {
     "data": {
      "image/png": "[encoded data removed]",
      "text/plain": [
       "<Figure size 432x288 with 1 Axes>"
      ]
     },
     "metadata": {},
     "output_type": "display_data"
    },
    {
     "data": {
      "image/png": "[encoded data removed]",
      "text/plain": [
       "<Figure size 432x288 with 1 Axes>"
      ]
     },
     "metadata": {},
     "output_type": "display_data"
    },
    {
     "data": {
      "image/png": "[encoded data removed]",
      "text/plain": [
       "<Figure size 432x288 with 1 Axes>"
      ]
     },
     "metadata": {},
     "output_type": "display_data"
    },
    {
     "data": {
      "image/png": "[encoded data removed]",
      "text/plain": [
       "<Figure size 432x288 with 1 Axes>"
      ]
     },
     "metadata": {},
     "output_type": "display_data"
    },
    {
     "data": {
      "image/png": "[encoded data removed]",
      "text/plain": [
       "<Figure size 432x288 with 1 Axes>"
      ]
     },
     "metadata": {},
     "output_type": "display_data"
    },
    {
     "data": {
      "image/png": "[encoded data removed]",
      "text/plain": [
       "<Figure size 432x288 with 1 Axes>"
      ]
     },
     "metadata": {},
     "output_type": "display_data"
    },
    {
     "data": {
      "image/png": "[encoded data removed]",
      "text/plain": [
       "<Figure size 432x288 with 1 Axes>"
      ]
     },
     "metadata": {},
     "output_type": "display_data"
    },
    {
     "data": {
      "image/png": "[encoded data removed]",
      "text/plain": [
       "<Figure size 432x288 with 1 Axes>"
      ]
     },
     "metadata": {},
     "output_type": "display_data"
    }
   ],
   "source": [
    "import seaborn as sns\n",
    "from matplotlib.font_manager import FontProperties\n",
    "prop = FontProperties(fname='C:\\\\Windows\\\\Fonts\\\\msjh.ttc')\n",
    "sns.set(font=prop.get_family())\n",
    "sns.set_style(\"whitegrid\",{\"font.sans-serif\":['Microsoft JhengHei']})\n",
    "#-----------------------設定中文字型-------------------\n",
    "\n",
    "for i,f in enumerate(num_features):\n",
    "    ori_series = df[f]\n",
    "    qt1 = ori_series.quantile(q=0.25)\n",
    "    qt3 = ori_series.quantile(q=0.75)\n",
    "    iqr = qt3-qt1\n",
    "    ori_series[ori_series>(qt3 + 1.5*iqr)] = qt3 + 1.5*iqr\n",
    "    ori_series[ori_series<(qt1 - 1.5*iqr)] = qt1 - 1.5*iqr\n",
    "    df[f] = ori_series\n",
    "    #--------------------------------------------------------#\n",
    "    plt.title(f) \n",
    "    plt.boxplot(df[f])\n",
    "    plt.show()"
   ]
  },
  {
   "cell_type": "code",
   "execution_count": 13,
   "metadata": {},
   "outputs": [],
   "source": [
    "df['建物單價元/坪'] = np.log1p(df['建物單價元/坪'])\n",
    "# df['建物單價元/坪']"
   ]
  },
  {
   "cell_type": "markdown",
   "metadata": {},
   "source": [
    "# 相關係數處理"
   ]
  },
  {
   "cell_type": "code",
   "execution_count": 14,
   "metadata": {},
   "outputs": [],
   "source": [
    "# corr = df.corr()  ###顯示相關係數!!!\n",
    "# display(corr)"
   ]
  },
  {
   "cell_type": "code",
   "execution_count": 15,
   "metadata": {},
   "outputs": [
    {
     "data": {
      "text/plain": [
       "實質GDP(百萬元)       0.021620\n",
       "房貸負擔比           -0.021767\n",
       "房價所得比           -0.023279\n",
       "房貸案件樣本數         -0.011521\n",
       "消費者物價指數          0.011988\n",
       "出生人口數           -0.095983\n",
       "死亡人口數           -0.053327\n",
       "總人口數            -0.019789\n",
       "出生率             -0.129405\n",
       "死亡率             -0.033308\n",
       "移出人口數            0.177137\n",
       "移入人口數            0.151853\n",
       "移出人口率            0.223005\n",
       "移入人口率            0.191391\n",
       "M1B(年增率)         0.035246\n",
       "車位單價             0.114955\n",
       "車位每個/坪           0.067768\n",
       "建築年              0.229149\n",
       "總樓層數             0.216362\n",
       "總價元              0.460069\n",
       "土地移轉總面積(坪)      -0.125905\n",
       "建物移轉總面積(坪)       0.041534\n",
       "交易筆棟數_土地         0.022230\n",
       "交易筆棟數_建物              NaN\n",
       "交易筆棟數_車位         0.093147\n",
       "屋齡              -0.220121\n",
       "車位移轉總面積(坪)       0.093784\n",
       "車位總價             0.120433\n",
       "車位總坪數            0.107930\n",
       "建物坪數(已扣除車位坪數)    0.032585\n",
       "墳墓              -0.007741\n",
       "殯儀館             -0.000877\n",
       "八大行業                  NaN\n",
       "市場               0.000069\n",
       "夜市               0.058139\n",
       "加油站              0.030697\n",
       "機場               0.032178\n",
       "瓦斯槽             -0.016067\n",
       "變電所              0.049555\n",
       "垃圾場                   NaN\n",
       "廟宇              -0.017206\n",
       "高架道路                  NaN\n",
       "建物價格(已扣除車位總價)    0.473222\n",
       "建物單價元/坪          1.000000\n",
       "Name: 建物單價元/坪, dtype: float64"
      ]
     },
     "execution_count": 15,
     "metadata": {},
     "output_type": "execute_result"
    }
   ],
   "source": [
    "corr = df.corr()\n",
    "corr_drop = corr.iloc[-1,:] \n",
    "corr_drop"
   ]
  },
  {
   "cell_type": "code",
   "execution_count": 16,
   "metadata": {},
   "outputs": [
    {
     "data": {
      "text/plain": [
       "Index(['出生人口數', '死亡人口數', '出生率', '死亡率', '移出人口數', '移入人口數', '移出人口率', '移入人口率',\n",
       "       'M1B(年增率)', '車位單價', '車位每個/坪', '建築年', '總樓層數', '總價元', '土地移轉總面積(坪)',\n",
       "       '建物移轉總面積(坪)', '交易筆棟數_車位', '屋齡', '車位移轉總面積(坪)', '車位總價', '車位總坪數',\n",
       "       '建物坪數(已扣除車位坪數)', '夜市', '加油站', '機場', '變電所', '建物價格(已扣除車位總價)', '建物單價元/坪'],\n",
       "      dtype='object')"
      ]
     },
     "execution_count": 16,
     "metadata": {},
     "output_type": "execute_result"
    }
   ],
   "source": [
    "#有高度相關性的欄位\n",
    "corr_drop[(corr_drop>0.03) | (corr_drop<-0.03)].index ### | =>或者or...(此步驟在去除0.3~-0.3低度負相關的資料!!!)"
   ]
  },
  {
   "cell_type": "code",
   "execution_count": 17,
   "metadata": {},
   "outputs": [
    {
     "name": "stdout",
     "output_type": "stream",
     "text": [
      "['實質GDP(百萬元)', '房貸負擔比', '房價所得比', '房貸案件樣本數', '消費者物價指數', '總人口數', '出生率', '移出人口率', '移入人口率', 'M1B(年增率)', '建築年', '總樓層數', '土地移轉總面積(坪)', '建物移轉總面積(坪)', '交易筆棟數_土地', '交易筆棟數_建物', '屋齡', '建物單價元/坪']\n"
     ]
    }
   ],
   "source": [
    "#移除低相關欄位(手動!!)\n",
    "renum = ['出生人口數','死亡人口數','死亡率','移出人口數', '移入人口數','車位單價', '車位每個/坪',\n",
    "        '總價元','交易筆棟數_車位','車位移轉總面積(坪)','車位總坪數','建物坪數(已扣除車位坪數)',\n",
    "         '車位總價','建物價格(已扣除車位總價)']\n",
    "\n",
    "for ii in renum:\n",
    "    num_features.remove(ii)\n",
    "print(num_features)"
   ]
  },
  {
   "cell_type": "code",
   "execution_count": 18,
   "metadata": {},
   "outputs": [
    {
     "name": "stdout",
     "output_type": "stream",
     "text": [
      "['實質GDP(百萬元)', '房貸負擔比', '房價所得比', '房貸案件樣本數', '消費者物價指數', '總人口數', '交易筆棟數_土地', '交易筆棟數_建物']\n"
     ]
    }
   ],
   "source": [
    "#將消除的低相關的欄位\n",
    "rm2 = []\n",
    "for i in num_features:\n",
    "    if i not in corr_drop[(corr_drop>0.03) | (corr_drop<-0.03)].index:\n",
    "        rm2.append(i)\n",
    "print(rm2)"
   ]
  },
  {
   "cell_type": "code",
   "execution_count": 19,
   "metadata": {},
   "outputs": [
    {
     "name": "stdout",
     "output_type": "stream",
     "text": [
      "10\n",
      "['出生率', '移出人口率', '移入人口率', 'M1B(年增率)', '建築年', '總樓層數', '土地移轉總面積(坪)', '建物移轉總面積(坪)', '屋齡', '建物單價元/坪']\n"
     ]
    }
   ],
   "source": [
    "#移除低相關性欄位\n",
    "\n",
    "for i2 in rm2:\n",
    "    num_features.remove(i2)\n",
    "print(len(num_features))\n",
    "print(num_features)"
   ]
  },
  {
   "cell_type": "code",
   "execution_count": 20,
   "metadata": {},
   "outputs": [
    {
     "name": "stdout",
     "output_type": "stream",
     "text": [
      "['出生率', '移出人口率', '移入人口率', 'M1B(年增率)', '建築年', '總樓層數', '土地移轉總面積(坪)', '建物移轉總面積(坪)', '屋齡']\n"
     ]
    }
   ],
   "source": [
    "num_features.remove('建物單價元/坪')\n",
    "print(num_features)"
   ]
  },
  {
   "cell_type": "code",
   "execution_count": 21,
   "metadata": {},
   "outputs": [
    {
     "data": {
      "text/html": [
       "<div>\n",
       "<style scoped>\n",
       "    .dataframe tbody tr th:only-of-type {\n",
       "        vertical-align: middle;\n",
       "    }\n",
       "\n",
       "    .dataframe tbody tr th {\n",
       "        vertical-align: top;\n",
       "    }\n",
       "\n",
       "    .dataframe thead th {\n",
       "        text-align: right;\n",
       "    }\n",
       "</style>\n",
       "<table border=\"1\" class=\"dataframe\">\n",
       "  <thead>\n",
       "    <tr style=\"text-align: right;\">\n",
       "      <th></th>\n",
       "      <th>出生率</th>\n",
       "      <th>移出人口率</th>\n",
       "      <th>移入人口率</th>\n",
       "      <th>M1B(年增率)</th>\n",
       "      <th>建築年</th>\n",
       "      <th>總樓層數</th>\n",
       "      <th>土地移轉總面積(坪)</th>\n",
       "      <th>建物移轉總面積(坪)</th>\n",
       "      <th>屋齡</th>\n",
       "    </tr>\n",
       "  </thead>\n",
       "  <tbody>\n",
       "    <tr>\n",
       "      <th>0</th>\n",
       "      <td>9.693300</td>\n",
       "      <td>0.00558</td>\n",
       "      <td>0.00529</td>\n",
       "      <td>3.400</td>\n",
       "      <td>74.0</td>\n",
       "      <td>17.0</td>\n",
       "      <td>5.865475</td>\n",
       "      <td>30.546450</td>\n",
       "      <td>27.0</td>\n",
       "    </tr>\n",
       "    <tr>\n",
       "      <th>1</th>\n",
       "      <td>10.258885</td>\n",
       "      <td>0.00733</td>\n",
       "      <td>0.00716</td>\n",
       "      <td>2.970</td>\n",
       "      <td>71.0</td>\n",
       "      <td>12.0</td>\n",
       "      <td>2.559150</td>\n",
       "      <td>28.259550</td>\n",
       "      <td>30.0</td>\n",
       "    </tr>\n",
       "    <tr>\n",
       "      <th>2</th>\n",
       "      <td>12.718714</td>\n",
       "      <td>0.00559</td>\n",
       "      <td>0.00676</td>\n",
       "      <td>2.970</td>\n",
       "      <td>65.0</td>\n",
       "      <td>11.0</td>\n",
       "      <td>1.173700</td>\n",
       "      <td>11.113850</td>\n",
       "      <td>36.0</td>\n",
       "    </tr>\n",
       "    <tr>\n",
       "      <th>3</th>\n",
       "      <td>11.225939</td>\n",
       "      <td>0.00516</td>\n",
       "      <td>0.00577</td>\n",
       "      <td>2.970</td>\n",
       "      <td>69.0</td>\n",
       "      <td>5.0</td>\n",
       "      <td>9.804025</td>\n",
       "      <td>31.493275</td>\n",
       "      <td>32.0</td>\n",
       "    </tr>\n",
       "    <tr>\n",
       "      <th>4</th>\n",
       "      <td>10.080002</td>\n",
       "      <td>0.00629</td>\n",
       "      <td>0.00620</td>\n",
       "      <td>2.970</td>\n",
       "      <td>81.0</td>\n",
       "      <td>7.0</td>\n",
       "      <td>10.747825</td>\n",
       "      <td>44.364650</td>\n",
       "      <td>20.0</td>\n",
       "    </tr>\n",
       "    <tr>\n",
       "      <th>...</th>\n",
       "      <td>...</td>\n",
       "      <td>...</td>\n",
       "      <td>...</td>\n",
       "      <td>...</td>\n",
       "      <td>...</td>\n",
       "      <td>...</td>\n",
       "      <td>...</td>\n",
       "      <td>...</td>\n",
       "      <td>...</td>\n",
       "    </tr>\n",
       "    <tr>\n",
       "      <th>143701</th>\n",
       "      <td>6.802270</td>\n",
       "      <td>0.00535</td>\n",
       "      <td>0.00393</td>\n",
       "      <td>10.740</td>\n",
       "      <td>95.0</td>\n",
       "      <td>13.0</td>\n",
       "      <td>9.946200</td>\n",
       "      <td>60.515125</td>\n",
       "      <td>14.0</td>\n",
       "    </tr>\n",
       "    <tr>\n",
       "      <th>143702</th>\n",
       "      <td>6.802270</td>\n",
       "      <td>0.00535</td>\n",
       "      <td>0.00393</td>\n",
       "      <td>10.740</td>\n",
       "      <td>85.0</td>\n",
       "      <td>11.0</td>\n",
       "      <td>4.773450</td>\n",
       "      <td>13.821225</td>\n",
       "      <td>24.0</td>\n",
       "    </tr>\n",
       "    <tr>\n",
       "      <th>143703</th>\n",
       "      <td>6.802270</td>\n",
       "      <td>0.00532</td>\n",
       "      <td>0.00387</td>\n",
       "      <td>10.745</td>\n",
       "      <td>82.0</td>\n",
       "      <td>8.0</td>\n",
       "      <td>3.197425</td>\n",
       "      <td>9.489425</td>\n",
       "      <td>27.0</td>\n",
       "    </tr>\n",
       "    <tr>\n",
       "      <th>143704</th>\n",
       "      <td>6.802270</td>\n",
       "      <td>0.00415</td>\n",
       "      <td>0.00320</td>\n",
       "      <td>9.680</td>\n",
       "      <td>83.0</td>\n",
       "      <td>5.0</td>\n",
       "      <td>4.168450</td>\n",
       "      <td>10.499775</td>\n",
       "      <td>26.0</td>\n",
       "    </tr>\n",
       "    <tr>\n",
       "      <th>143705</th>\n",
       "      <td>6.802270</td>\n",
       "      <td>0.00415</td>\n",
       "      <td>0.00320</td>\n",
       "      <td>9.680</td>\n",
       "      <td>73.0</td>\n",
       "      <td>5.0</td>\n",
       "      <td>7.296300</td>\n",
       "      <td>27.554725</td>\n",
       "      <td>36.0</td>\n",
       "    </tr>\n",
       "  </tbody>\n",
       "</table>\n",
       "<p>143706 rows × 9 columns</p>\n",
       "</div>"
      ],
      "text/plain": [
       "              出生率    移出人口率    移入人口率  M1B(年增率)   建築年  總樓層數  土地移轉總面積(坪)  \\\n",
       "0        9.693300  0.00558  0.00529     3.400  74.0  17.0    5.865475   \n",
       "1       10.258885  0.00733  0.00716     2.970  71.0  12.0    2.559150   \n",
       "2       12.718714  0.00559  0.00676     2.970  65.0  11.0    1.173700   \n",
       "3       11.225939  0.00516  0.00577     2.970  69.0   5.0    9.804025   \n",
       "4       10.080002  0.00629  0.00620     2.970  81.0   7.0   10.747825   \n",
       "...           ...      ...      ...       ...   ...   ...         ...   \n",
       "143701   6.802270  0.00535  0.00393    10.740  95.0  13.0    9.946200   \n",
       "143702   6.802270  0.00535  0.00393    10.740  85.0  11.0    4.773450   \n",
       "143703   6.802270  0.00532  0.00387    10.745  82.0   8.0    3.197425   \n",
       "143704   6.802270  0.00415  0.00320     9.680  83.0   5.0    4.168450   \n",
       "143705   6.802270  0.00415  0.00320     9.680  73.0   5.0    7.296300   \n",
       "\n",
       "        建物移轉總面積(坪)    屋齡  \n",
       "0        30.546450  27.0  \n",
       "1        28.259550  30.0  \n",
       "2        11.113850  36.0  \n",
       "3        31.493275  32.0  \n",
       "4        44.364650  20.0  \n",
       "...            ...   ...  \n",
       "143701   60.515125  14.0  \n",
       "143702   13.821225  24.0  \n",
       "143703    9.489425  27.0  \n",
       "143704   10.499775  26.0  \n",
       "143705   27.554725  36.0  \n",
       "\n",
       "[143706 rows x 9 columns]"
      ]
     },
     "metadata": {},
     "output_type": "display_data"
    }
   ],
   "source": [
    "df_num_features = pd.DataFrame()\n",
    "\n",
    "for i in num_features:\n",
    "    if df[i].isnull().any():\n",
    "        print(f'{i} has missing value')\n",
    "    else:\n",
    "        df_num_features[i] = df[i]\n",
    "\n",
    "display(df_num_features)"
   ]
  },
  {
   "cell_type": "markdown",
   "metadata": {},
   "source": [
    "# MinMaxScaler()"
   ]
  },
  {
   "cell_type": "code",
   "execution_count": 22,
   "metadata": {},
   "outputs": [
    {
     "data": {
      "text/html": [
       "<div>\n",
       "<style scoped>\n",
       "    .dataframe tbody tr th:only-of-type {\n",
       "        vertical-align: middle;\n",
       "    }\n",
       "\n",
       "    .dataframe tbody tr th {\n",
       "        vertical-align: top;\n",
       "    }\n",
       "\n",
       "    .dataframe thead th {\n",
       "        text-align: right;\n",
       "    }\n",
       "</style>\n",
       "<table border=\"1\" class=\"dataframe\">\n",
       "  <thead>\n",
       "    <tr style=\"text-align: right;\">\n",
       "      <th></th>\n",
       "      <th>出生率</th>\n",
       "      <th>移出人口率</th>\n",
       "      <th>移入人口率</th>\n",
       "      <th>M1B(年增率)</th>\n",
       "      <th>建築年</th>\n",
       "      <th>總樓層數</th>\n",
       "      <th>土地移轉總面積(坪)</th>\n",
       "      <th>建物移轉總面積(坪)</th>\n",
       "      <th>屋齡</th>\n",
       "      <th>建物單價元/坪</th>\n",
       "    </tr>\n",
       "  </thead>\n",
       "  <tbody>\n",
       "    <tr>\n",
       "      <th>0</th>\n",
       "      <td>0.513836</td>\n",
       "      <td>0.662963</td>\n",
       "      <td>0.622984</td>\n",
       "      <td>0.077841</td>\n",
       "      <td>0.570552</td>\n",
       "      <td>0.618182</td>\n",
       "      <td>0.282365</td>\n",
       "      <td>0.305855</td>\n",
       "      <td>0.341772</td>\n",
       "      <td>4.147885</td>\n",
       "    </tr>\n",
       "    <tr>\n",
       "      <th>1</th>\n",
       "      <td>0.602893</td>\n",
       "      <td>0.987037</td>\n",
       "      <td>1.000000</td>\n",
       "      <td>0.023854</td>\n",
       "      <td>0.533742</td>\n",
       "      <td>0.436364</td>\n",
       "      <td>0.123198</td>\n",
       "      <td>0.281347</td>\n",
       "      <td>0.379747</td>\n",
       "      <td>4.297285</td>\n",
       "    </tr>\n",
       "    <tr>\n",
       "      <th>2</th>\n",
       "      <td>0.990217</td>\n",
       "      <td>0.664815</td>\n",
       "      <td>0.919355</td>\n",
       "      <td>0.023854</td>\n",
       "      <td>0.460123</td>\n",
       "      <td>0.400000</td>\n",
       "      <td>0.056502</td>\n",
       "      <td>0.097608</td>\n",
       "      <td>0.455696</td>\n",
       "      <td>3.668677</td>\n",
       "    </tr>\n",
       "    <tr>\n",
       "      <th>3</th>\n",
       "      <td>0.755165</td>\n",
       "      <td>0.585185</td>\n",
       "      <td>0.719758</td>\n",
       "      <td>0.023854</td>\n",
       "      <td>0.509202</td>\n",
       "      <td>0.181818</td>\n",
       "      <td>0.471967</td>\n",
       "      <td>0.316001</td>\n",
       "      <td>0.405063</td>\n",
       "      <td>3.832980</td>\n",
       "    </tr>\n",
       "    <tr>\n",
       "      <th>4</th>\n",
       "      <td>0.574726</td>\n",
       "      <td>0.794444</td>\n",
       "      <td>0.806452</td>\n",
       "      <td>0.023854</td>\n",
       "      <td>0.656442</td>\n",
       "      <td>0.254545</td>\n",
       "      <td>0.517402</td>\n",
       "      <td>0.453935</td>\n",
       "      <td>0.253165</td>\n",
       "      <td>4.087656</td>\n",
       "    </tr>\n",
       "    <tr>\n",
       "      <th>...</th>\n",
       "      <td>...</td>\n",
       "      <td>...</td>\n",
       "      <td>...</td>\n",
       "      <td>...</td>\n",
       "      <td>...</td>\n",
       "      <td>...</td>\n",
       "      <td>...</td>\n",
       "      <td>...</td>\n",
       "      <td>...</td>\n",
       "      <td>...</td>\n",
       "    </tr>\n",
       "    <tr>\n",
       "      <th>143701</th>\n",
       "      <td>0.058615</td>\n",
       "      <td>0.620370</td>\n",
       "      <td>0.348790</td>\n",
       "      <td>0.999372</td>\n",
       "      <td>0.828221</td>\n",
       "      <td>0.472727</td>\n",
       "      <td>0.478812</td>\n",
       "      <td>0.627010</td>\n",
       "      <td>0.177215</td>\n",
       "      <td>3.908015</td>\n",
       "    </tr>\n",
       "    <tr>\n",
       "      <th>143702</th>\n",
       "      <td>0.058615</td>\n",
       "      <td>0.620370</td>\n",
       "      <td>0.348790</td>\n",
       "      <td>0.999372</td>\n",
       "      <td>0.705521</td>\n",
       "      <td>0.400000</td>\n",
       "      <td>0.229795</td>\n",
       "      <td>0.126621</td>\n",
       "      <td>0.303797</td>\n",
       "      <td>4.077537</td>\n",
       "    </tr>\n",
       "    <tr>\n",
       "      <th>143703</th>\n",
       "      <td>0.058615</td>\n",
       "      <td>0.614815</td>\n",
       "      <td>0.336694</td>\n",
       "      <td>1.000000</td>\n",
       "      <td>0.668712</td>\n",
       "      <td>0.290909</td>\n",
       "      <td>0.153925</td>\n",
       "      <td>0.080200</td>\n",
       "      <td>0.341772</td>\n",
       "      <td>3.815512</td>\n",
       "    </tr>\n",
       "    <tr>\n",
       "      <th>143704</th>\n",
       "      <td>0.058615</td>\n",
       "      <td>0.398148</td>\n",
       "      <td>0.201613</td>\n",
       "      <td>0.866290</td>\n",
       "      <td>0.680982</td>\n",
       "      <td>0.181818</td>\n",
       "      <td>0.200670</td>\n",
       "      <td>0.091027</td>\n",
       "      <td>0.329114</td>\n",
       "      <td>3.817712</td>\n",
       "    </tr>\n",
       "    <tr>\n",
       "      <th>143705</th>\n",
       "      <td>0.058615</td>\n",
       "      <td>0.398148</td>\n",
       "      <td>0.201613</td>\n",
       "      <td>0.866290</td>\n",
       "      <td>0.558282</td>\n",
       "      <td>0.181818</td>\n",
       "      <td>0.351245</td>\n",
       "      <td>0.273794</td>\n",
       "      <td>0.455696</td>\n",
       "      <td>3.520461</td>\n",
       "    </tr>\n",
       "  </tbody>\n",
       "</table>\n",
       "<p>143706 rows × 10 columns</p>\n",
       "</div>"
      ],
      "text/plain": [
       "             出生率     移出人口率     移入人口率  M1B(年增率)       建築年      總樓層數  \\\n",
       "0       0.513836  0.662963  0.622984  0.077841  0.570552  0.618182   \n",
       "1       0.602893  0.987037  1.000000  0.023854  0.533742  0.436364   \n",
       "2       0.990217  0.664815  0.919355  0.023854  0.460123  0.400000   \n",
       "3       0.755165  0.585185  0.719758  0.023854  0.509202  0.181818   \n",
       "4       0.574726  0.794444  0.806452  0.023854  0.656442  0.254545   \n",
       "...          ...       ...       ...       ...       ...       ...   \n",
       "143701  0.058615  0.620370  0.348790  0.999372  0.828221  0.472727   \n",
       "143702  0.058615  0.620370  0.348790  0.999372  0.705521  0.400000   \n",
       "143703  0.058615  0.614815  0.336694  1.000000  0.668712  0.290909   \n",
       "143704  0.058615  0.398148  0.201613  0.866290  0.680982  0.181818   \n",
       "143705  0.058615  0.398148  0.201613  0.866290  0.558282  0.181818   \n",
       "\n",
       "        土地移轉總面積(坪)  建物移轉總面積(坪)        屋齡   建物單價元/坪  \n",
       "0         0.282365    0.305855  0.341772  4.147885  \n",
       "1         0.123198    0.281347  0.379747  4.297285  \n",
       "2         0.056502    0.097608  0.455696  3.668677  \n",
       "3         0.471967    0.316001  0.405063  3.832980  \n",
       "4         0.517402    0.453935  0.253165  4.087656  \n",
       "...            ...         ...       ...       ...  \n",
       "143701    0.478812    0.627010  0.177215  3.908015  \n",
       "143702    0.229795    0.126621  0.303797  4.077537  \n",
       "143703    0.153925    0.080200  0.341772  3.815512  \n",
       "143704    0.200670    0.091027  0.329114  3.817712  \n",
       "143705    0.351245    0.273794  0.455696  3.520461  \n",
       "\n",
       "[143706 rows x 10 columns]"
      ]
     },
     "execution_count": 22,
     "metadata": {},
     "output_type": "execute_result"
    }
   ],
   "source": [
    "from sklearn import preprocessing\n",
    "\n",
    "df_num_features_array = preprocessing.MinMaxScaler().fit_transform(df_num_features)\n",
    "\n",
    "df_num_features_scaler = pd.DataFrame(df_num_features_array, columns=num_features)\n",
    "\n",
    "#記得要把'建物單價元/坪'拼回去!!!\n",
    "df_num_features_scaler['建物單價元/坪'] = df['建物單價元/坪']\n",
    "\n",
    "df_num_features_scaler"
   ]
  },
  {
   "cell_type": "markdown",
   "metadata": {},
   "source": [
    "# One-hot-encodeing"
   ]
  },
  {
   "cell_type": "code",
   "execution_count": 27,
   "metadata": {},
   "outputs": [
    {
     "name": "stdout",
     "output_type": "stream",
     "text": [
      "['鄉鎮市區', '交易標的', '都市土地使用分區', '建物型態', '主要建材', '車位類別', '土地區段位置建物區段門牌1', '土地區段位置建物區段門牌2', '交易年', '交易月']\n"
     ]
    }
   ],
   "source": [
    "print(notnum_features)"
   ]
  },
  {
   "cell_type": "code",
   "execution_count": 28,
   "metadata": {},
   "outputs": [
    {
     "name": "stdout",
     "output_type": "stream",
     "text": [
      "['鄉鎮市區', '交易標的', '都市土地使用分區', '建物型態', '主要建材', '車位類別', '交易年', '交易月']\n"
     ]
    }
   ],
   "source": [
    "#手動去除欄位\n",
    "rr = ['土地區段位置建物區段門牌1', '土地區段位置建物區段門牌2']\n",
    "\n",
    "for i in rr:\n",
    "    notnum_features.remove(i)\n",
    "print(notnum_features)"
   ]
  },
  {
   "cell_type": "code",
   "execution_count": 29,
   "metadata": {},
   "outputs": [
    {
     "data": {
      "text/html": [
       "<div>\n",
       "<style scoped>\n",
       "    .dataframe tbody tr th:only-of-type {\n",
       "        vertical-align: middle;\n",
       "    }\n",
       "\n",
       "    .dataframe tbody tr th {\n",
       "        vertical-align: top;\n",
       "    }\n",
       "\n",
       "    .dataframe thead th {\n",
       "        text-align: right;\n",
       "    }\n",
       "</style>\n",
       "<table border=\"1\" class=\"dataframe\">\n",
       "  <thead>\n",
       "    <tr style=\"text-align: right;\">\n",
       "      <th></th>\n",
       "      <th>鄉鎮市區_中山區</th>\n",
       "      <th>鄉鎮市區_中正區</th>\n",
       "      <th>鄉鎮市區_信義區</th>\n",
       "      <th>鄉鎮市區_內湖區</th>\n",
       "      <th>鄉鎮市區_北投區</th>\n",
       "      <th>鄉鎮市區_南港區</th>\n",
       "      <th>鄉鎮市區_士林區</th>\n",
       "      <th>鄉鎮市區_大同區</th>\n",
       "      <th>鄉鎮市區_大安區</th>\n",
       "      <th>鄉鎮市區_文山區</th>\n",
       "      <th>...</th>\n",
       "      <th>交易月_11</th>\n",
       "      <th>交易月_12</th>\n",
       "      <th>交易月_2</th>\n",
       "      <th>交易月_3</th>\n",
       "      <th>交易月_4</th>\n",
       "      <th>交易月_5</th>\n",
       "      <th>交易月_6</th>\n",
       "      <th>交易月_7</th>\n",
       "      <th>交易月_8</th>\n",
       "      <th>交易月_9</th>\n",
       "    </tr>\n",
       "  </thead>\n",
       "  <tbody>\n",
       "    <tr>\n",
       "      <th>0</th>\n",
       "      <td>0</td>\n",
       "      <td>0</td>\n",
       "      <td>0</td>\n",
       "      <td>0</td>\n",
       "      <td>0</td>\n",
       "      <td>0</td>\n",
       "      <td>0</td>\n",
       "      <td>0</td>\n",
       "      <td>1</td>\n",
       "      <td>0</td>\n",
       "      <td>...</td>\n",
       "      <td>0</td>\n",
       "      <td>0</td>\n",
       "      <td>0</td>\n",
       "      <td>0</td>\n",
       "      <td>0</td>\n",
       "      <td>0</td>\n",
       "      <td>1</td>\n",
       "      <td>0</td>\n",
       "      <td>0</td>\n",
       "      <td>0</td>\n",
       "    </tr>\n",
       "    <tr>\n",
       "      <th>1</th>\n",
       "      <td>0</td>\n",
       "      <td>1</td>\n",
       "      <td>0</td>\n",
       "      <td>0</td>\n",
       "      <td>0</td>\n",
       "      <td>0</td>\n",
       "      <td>0</td>\n",
       "      <td>0</td>\n",
       "      <td>0</td>\n",
       "      <td>0</td>\n",
       "      <td>...</td>\n",
       "      <td>0</td>\n",
       "      <td>0</td>\n",
       "      <td>0</td>\n",
       "      <td>0</td>\n",
       "      <td>0</td>\n",
       "      <td>0</td>\n",
       "      <td>0</td>\n",
       "      <td>1</td>\n",
       "      <td>0</td>\n",
       "      <td>0</td>\n",
       "    </tr>\n",
       "    <tr>\n",
       "      <th>2</th>\n",
       "      <td>0</td>\n",
       "      <td>0</td>\n",
       "      <td>0</td>\n",
       "      <td>0</td>\n",
       "      <td>0</td>\n",
       "      <td>0</td>\n",
       "      <td>0</td>\n",
       "      <td>1</td>\n",
       "      <td>0</td>\n",
       "      <td>0</td>\n",
       "      <td>...</td>\n",
       "      <td>0</td>\n",
       "      <td>0</td>\n",
       "      <td>0</td>\n",
       "      <td>0</td>\n",
       "      <td>0</td>\n",
       "      <td>0</td>\n",
       "      <td>0</td>\n",
       "      <td>1</td>\n",
       "      <td>0</td>\n",
       "      <td>0</td>\n",
       "    </tr>\n",
       "    <tr>\n",
       "      <th>3</th>\n",
       "      <td>0</td>\n",
       "      <td>0</td>\n",
       "      <td>0</td>\n",
       "      <td>1</td>\n",
       "      <td>0</td>\n",
       "      <td>0</td>\n",
       "      <td>0</td>\n",
       "      <td>0</td>\n",
       "      <td>0</td>\n",
       "      <td>0</td>\n",
       "      <td>...</td>\n",
       "      <td>0</td>\n",
       "      <td>0</td>\n",
       "      <td>0</td>\n",
       "      <td>0</td>\n",
       "      <td>0</td>\n",
       "      <td>0</td>\n",
       "      <td>0</td>\n",
       "      <td>1</td>\n",
       "      <td>0</td>\n",
       "      <td>0</td>\n",
       "    </tr>\n",
       "    <tr>\n",
       "      <th>4</th>\n",
       "      <td>0</td>\n",
       "      <td>0</td>\n",
       "      <td>0</td>\n",
       "      <td>0</td>\n",
       "      <td>0</td>\n",
       "      <td>0</td>\n",
       "      <td>0</td>\n",
       "      <td>0</td>\n",
       "      <td>0</td>\n",
       "      <td>0</td>\n",
       "      <td>...</td>\n",
       "      <td>0</td>\n",
       "      <td>0</td>\n",
       "      <td>0</td>\n",
       "      <td>0</td>\n",
       "      <td>0</td>\n",
       "      <td>0</td>\n",
       "      <td>0</td>\n",
       "      <td>1</td>\n",
       "      <td>0</td>\n",
       "      <td>0</td>\n",
       "    </tr>\n",
       "    <tr>\n",
       "      <th>...</th>\n",
       "      <td>...</td>\n",
       "      <td>...</td>\n",
       "      <td>...</td>\n",
       "      <td>...</td>\n",
       "      <td>...</td>\n",
       "      <td>...</td>\n",
       "      <td>...</td>\n",
       "      <td>...</td>\n",
       "      <td>...</td>\n",
       "      <td>...</td>\n",
       "      <td>...</td>\n",
       "      <td>...</td>\n",
       "      <td>...</td>\n",
       "      <td>...</td>\n",
       "      <td>...</td>\n",
       "      <td>...</td>\n",
       "      <td>...</td>\n",
       "      <td>...</td>\n",
       "      <td>...</td>\n",
       "      <td>...</td>\n",
       "      <td>...</td>\n",
       "    </tr>\n",
       "    <tr>\n",
       "      <th>143701</th>\n",
       "      <td>0</td>\n",
       "      <td>0</td>\n",
       "      <td>0</td>\n",
       "      <td>0</td>\n",
       "      <td>0</td>\n",
       "      <td>0</td>\n",
       "      <td>0</td>\n",
       "      <td>0</td>\n",
       "      <td>0</td>\n",
       "      <td>1</td>\n",
       "      <td>...</td>\n",
       "      <td>0</td>\n",
       "      <td>0</td>\n",
       "      <td>0</td>\n",
       "      <td>0</td>\n",
       "      <td>0</td>\n",
       "      <td>0</td>\n",
       "      <td>0</td>\n",
       "      <td>1</td>\n",
       "      <td>0</td>\n",
       "      <td>0</td>\n",
       "    </tr>\n",
       "    <tr>\n",
       "      <th>143702</th>\n",
       "      <td>0</td>\n",
       "      <td>0</td>\n",
       "      <td>0</td>\n",
       "      <td>0</td>\n",
       "      <td>0</td>\n",
       "      <td>0</td>\n",
       "      <td>0</td>\n",
       "      <td>0</td>\n",
       "      <td>0</td>\n",
       "      <td>1</td>\n",
       "      <td>...</td>\n",
       "      <td>0</td>\n",
       "      <td>0</td>\n",
       "      <td>0</td>\n",
       "      <td>0</td>\n",
       "      <td>0</td>\n",
       "      <td>0</td>\n",
       "      <td>0</td>\n",
       "      <td>1</td>\n",
       "      <td>0</td>\n",
       "      <td>0</td>\n",
       "    </tr>\n",
       "    <tr>\n",
       "      <th>143703</th>\n",
       "      <td>0</td>\n",
       "      <td>0</td>\n",
       "      <td>0</td>\n",
       "      <td>0</td>\n",
       "      <td>0</td>\n",
       "      <td>0</td>\n",
       "      <td>0</td>\n",
       "      <td>0</td>\n",
       "      <td>0</td>\n",
       "      <td>1</td>\n",
       "      <td>...</td>\n",
       "      <td>0</td>\n",
       "      <td>0</td>\n",
       "      <td>0</td>\n",
       "      <td>0</td>\n",
       "      <td>0</td>\n",
       "      <td>0</td>\n",
       "      <td>0</td>\n",
       "      <td>0</td>\n",
       "      <td>1</td>\n",
       "      <td>0</td>\n",
       "    </tr>\n",
       "    <tr>\n",
       "      <th>143704</th>\n",
       "      <td>0</td>\n",
       "      <td>0</td>\n",
       "      <td>0</td>\n",
       "      <td>0</td>\n",
       "      <td>0</td>\n",
       "      <td>0</td>\n",
       "      <td>0</td>\n",
       "      <td>0</td>\n",
       "      <td>0</td>\n",
       "      <td>1</td>\n",
       "      <td>...</td>\n",
       "      <td>0</td>\n",
       "      <td>0</td>\n",
       "      <td>0</td>\n",
       "      <td>0</td>\n",
       "      <td>0</td>\n",
       "      <td>0</td>\n",
       "      <td>1</td>\n",
       "      <td>0</td>\n",
       "      <td>0</td>\n",
       "      <td>0</td>\n",
       "    </tr>\n",
       "    <tr>\n",
       "      <th>143705</th>\n",
       "      <td>0</td>\n",
       "      <td>0</td>\n",
       "      <td>0</td>\n",
       "      <td>0</td>\n",
       "      <td>0</td>\n",
       "      <td>0</td>\n",
       "      <td>0</td>\n",
       "      <td>0</td>\n",
       "      <td>0</td>\n",
       "      <td>1</td>\n",
       "      <td>...</td>\n",
       "      <td>0</td>\n",
       "      <td>0</td>\n",
       "      <td>0</td>\n",
       "      <td>0</td>\n",
       "      <td>0</td>\n",
       "      <td>0</td>\n",
       "      <td>1</td>\n",
       "      <td>0</td>\n",
       "      <td>0</td>\n",
       "      <td>0</td>\n",
       "    </tr>\n",
       "  </tbody>\n",
       "</table>\n",
       "<p>143706 rows × 53 columns</p>\n",
       "</div>"
      ],
      "text/plain": [
       "        鄉鎮市區_中山區  鄉鎮市區_中正區  鄉鎮市區_信義區  鄉鎮市區_內湖區  鄉鎮市區_北投區  鄉鎮市區_南港區  鄉鎮市區_士林區  \\\n",
       "0              0         0         0         0         0         0         0   \n",
       "1              0         1         0         0         0         0         0   \n",
       "2              0         0         0         0         0         0         0   \n",
       "3              0         0         0         1         0         0         0   \n",
       "4              0         0         0         0         0         0         0   \n",
       "...          ...       ...       ...       ...       ...       ...       ...   \n",
       "143701         0         0         0         0         0         0         0   \n",
       "143702         0         0         0         0         0         0         0   \n",
       "143703         0         0         0         0         0         0         0   \n",
       "143704         0         0         0         0         0         0         0   \n",
       "143705         0         0         0         0         0         0         0   \n",
       "\n",
       "        鄉鎮市區_大同區  鄉鎮市區_大安區  鄉鎮市區_文山區  ...  交易月_11  交易月_12  交易月_2  交易月_3  \\\n",
       "0              0         1         0  ...       0       0      0      0   \n",
       "1              0         0         0  ...       0       0      0      0   \n",
       "2              1         0         0  ...       0       0      0      0   \n",
       "3              0         0         0  ...       0       0      0      0   \n",
       "4              0         0         0  ...       0       0      0      0   \n",
       "...          ...       ...       ...  ...     ...     ...    ...    ...   \n",
       "143701         0         0         1  ...       0       0      0      0   \n",
       "143702         0         0         1  ...       0       0      0      0   \n",
       "143703         0         0         1  ...       0       0      0      0   \n",
       "143704         0         0         1  ...       0       0      0      0   \n",
       "143705         0         0         1  ...       0       0      0      0   \n",
       "\n",
       "        交易月_4  交易月_5  交易月_6  交易月_7  交易月_8  交易月_9  \n",
       "0           0      0      1      0      0      0  \n",
       "1           0      0      0      1      0      0  \n",
       "2           0      0      0      1      0      0  \n",
       "3           0      0      0      1      0      0  \n",
       "4           0      0      0      1      0      0  \n",
       "...       ...    ...    ...    ...    ...    ...  \n",
       "143701      0      0      0      1      0      0  \n",
       "143702      0      0      0      1      0      0  \n",
       "143703      0      0      0      0      1      0  \n",
       "143704      0      0      1      0      0      0  \n",
       "143705      0      0      1      0      0      0  \n",
       "\n",
       "[143706 rows x 53 columns]"
      ]
     },
     "execution_count": 29,
     "metadata": {},
     "output_type": "execute_result"
    }
   ],
   "source": [
    "df_notnum_features = pd.DataFrame()\n",
    "for c in notnum_features:\n",
    "    df_notnum_features[c] = df[c]\n",
    "df_notnum_features = pd.get_dummies(df_notnum_features)\n",
    "df_notnum_features"
   ]
  },
  {
   "cell_type": "code",
   "execution_count": 30,
   "metadata": {},
   "outputs": [],
   "source": [
    "num1 = ['墳墓', '殯儀館', '八大行業', '市場', '夜市', '加油站',\n",
    "        '機場', '瓦斯槽', '變電所', '垃圾場', '廟宇', '高架道路']\n",
    "\n",
    "for i in num1:\n",
    "    df_notnum_features[i] = df[i]"
   ]
  },
  {
   "cell_type": "code",
   "execution_count": 31,
   "metadata": {},
   "outputs": [
    {
     "data": {
      "text/html": [
       "<div>\n",
       "<style scoped>\n",
       "    .dataframe tbody tr th:only-of-type {\n",
       "        vertical-align: middle;\n",
       "    }\n",
       "\n",
       "    .dataframe tbody tr th {\n",
       "        vertical-align: top;\n",
       "    }\n",
       "\n",
       "    .dataframe thead th {\n",
       "        text-align: right;\n",
       "    }\n",
       "</style>\n",
       "<table border=\"1\" class=\"dataframe\">\n",
       "  <thead>\n",
       "    <tr style=\"text-align: right;\">\n",
       "      <th></th>\n",
       "      <th>鄉鎮市區_中山區</th>\n",
       "      <th>鄉鎮市區_中正區</th>\n",
       "      <th>鄉鎮市區_信義區</th>\n",
       "      <th>鄉鎮市區_內湖區</th>\n",
       "      <th>鄉鎮市區_北投區</th>\n",
       "      <th>鄉鎮市區_南港區</th>\n",
       "      <th>鄉鎮市區_士林區</th>\n",
       "      <th>鄉鎮市區_大同區</th>\n",
       "      <th>鄉鎮市區_大安區</th>\n",
       "      <th>鄉鎮市區_文山區</th>\n",
       "      <th>...</th>\n",
       "      <th>出生率</th>\n",
       "      <th>移出人口率</th>\n",
       "      <th>移入人口率</th>\n",
       "      <th>M1B(年增率)</th>\n",
       "      <th>建築年</th>\n",
       "      <th>總樓層數</th>\n",
       "      <th>土地移轉總面積(坪)</th>\n",
       "      <th>建物移轉總面積(坪)</th>\n",
       "      <th>屋齡</th>\n",
       "      <th>建物單價元/坪</th>\n",
       "    </tr>\n",
       "  </thead>\n",
       "  <tbody>\n",
       "    <tr>\n",
       "      <th>0</th>\n",
       "      <td>0</td>\n",
       "      <td>0</td>\n",
       "      <td>0</td>\n",
       "      <td>0</td>\n",
       "      <td>0</td>\n",
       "      <td>0</td>\n",
       "      <td>0</td>\n",
       "      <td>0</td>\n",
       "      <td>1</td>\n",
       "      <td>0</td>\n",
       "      <td>...</td>\n",
       "      <td>0.513836</td>\n",
       "      <td>0.662963</td>\n",
       "      <td>0.622984</td>\n",
       "      <td>0.077841</td>\n",
       "      <td>0.570552</td>\n",
       "      <td>0.618182</td>\n",
       "      <td>0.282365</td>\n",
       "      <td>0.305855</td>\n",
       "      <td>0.341772</td>\n",
       "      <td>4.147885</td>\n",
       "    </tr>\n",
       "    <tr>\n",
       "      <th>1</th>\n",
       "      <td>0</td>\n",
       "      <td>1</td>\n",
       "      <td>0</td>\n",
       "      <td>0</td>\n",
       "      <td>0</td>\n",
       "      <td>0</td>\n",
       "      <td>0</td>\n",
       "      <td>0</td>\n",
       "      <td>0</td>\n",
       "      <td>0</td>\n",
       "      <td>...</td>\n",
       "      <td>0.602893</td>\n",
       "      <td>0.987037</td>\n",
       "      <td>1.000000</td>\n",
       "      <td>0.023854</td>\n",
       "      <td>0.533742</td>\n",
       "      <td>0.436364</td>\n",
       "      <td>0.123198</td>\n",
       "      <td>0.281347</td>\n",
       "      <td>0.379747</td>\n",
       "      <td>4.297285</td>\n",
       "    </tr>\n",
       "    <tr>\n",
       "      <th>2</th>\n",
       "      <td>0</td>\n",
       "      <td>0</td>\n",
       "      <td>0</td>\n",
       "      <td>0</td>\n",
       "      <td>0</td>\n",
       "      <td>0</td>\n",
       "      <td>0</td>\n",
       "      <td>1</td>\n",
       "      <td>0</td>\n",
       "      <td>0</td>\n",
       "      <td>...</td>\n",
       "      <td>0.990217</td>\n",
       "      <td>0.664815</td>\n",
       "      <td>0.919355</td>\n",
       "      <td>0.023854</td>\n",
       "      <td>0.460123</td>\n",
       "      <td>0.400000</td>\n",
       "      <td>0.056502</td>\n",
       "      <td>0.097608</td>\n",
       "      <td>0.455696</td>\n",
       "      <td>3.668677</td>\n",
       "    </tr>\n",
       "    <tr>\n",
       "      <th>3</th>\n",
       "      <td>0</td>\n",
       "      <td>0</td>\n",
       "      <td>0</td>\n",
       "      <td>1</td>\n",
       "      <td>0</td>\n",
       "      <td>0</td>\n",
       "      <td>0</td>\n",
       "      <td>0</td>\n",
       "      <td>0</td>\n",
       "      <td>0</td>\n",
       "      <td>...</td>\n",
       "      <td>0.755165</td>\n",
       "      <td>0.585185</td>\n",
       "      <td>0.719758</td>\n",
       "      <td>0.023854</td>\n",
       "      <td>0.509202</td>\n",
       "      <td>0.181818</td>\n",
       "      <td>0.471967</td>\n",
       "      <td>0.316001</td>\n",
       "      <td>0.405063</td>\n",
       "      <td>3.832980</td>\n",
       "    </tr>\n",
       "    <tr>\n",
       "      <th>4</th>\n",
       "      <td>0</td>\n",
       "      <td>0</td>\n",
       "      <td>0</td>\n",
       "      <td>0</td>\n",
       "      <td>0</td>\n",
       "      <td>0</td>\n",
       "      <td>0</td>\n",
       "      <td>0</td>\n",
       "      <td>0</td>\n",
       "      <td>0</td>\n",
       "      <td>...</td>\n",
       "      <td>0.574726</td>\n",
       "      <td>0.794444</td>\n",
       "      <td>0.806452</td>\n",
       "      <td>0.023854</td>\n",
       "      <td>0.656442</td>\n",
       "      <td>0.254545</td>\n",
       "      <td>0.517402</td>\n",
       "      <td>0.453935</td>\n",
       "      <td>0.253165</td>\n",
       "      <td>4.087656</td>\n",
       "    </tr>\n",
       "    <tr>\n",
       "      <th>...</th>\n",
       "      <td>...</td>\n",
       "      <td>...</td>\n",
       "      <td>...</td>\n",
       "      <td>...</td>\n",
       "      <td>...</td>\n",
       "      <td>...</td>\n",
       "      <td>...</td>\n",
       "      <td>...</td>\n",
       "      <td>...</td>\n",
       "      <td>...</td>\n",
       "      <td>...</td>\n",
       "      <td>...</td>\n",
       "      <td>...</td>\n",
       "      <td>...</td>\n",
       "      <td>...</td>\n",
       "      <td>...</td>\n",
       "      <td>...</td>\n",
       "      <td>...</td>\n",
       "      <td>...</td>\n",
       "      <td>...</td>\n",
       "      <td>...</td>\n",
       "    </tr>\n",
       "    <tr>\n",
       "      <th>143701</th>\n",
       "      <td>0</td>\n",
       "      <td>0</td>\n",
       "      <td>0</td>\n",
       "      <td>0</td>\n",
       "      <td>0</td>\n",
       "      <td>0</td>\n",
       "      <td>0</td>\n",
       "      <td>0</td>\n",
       "      <td>0</td>\n",
       "      <td>1</td>\n",
       "      <td>...</td>\n",
       "      <td>0.058615</td>\n",
       "      <td>0.620370</td>\n",
       "      <td>0.348790</td>\n",
       "      <td>0.999372</td>\n",
       "      <td>0.828221</td>\n",
       "      <td>0.472727</td>\n",
       "      <td>0.478812</td>\n",
       "      <td>0.627010</td>\n",
       "      <td>0.177215</td>\n",
       "      <td>3.908015</td>\n",
       "    </tr>\n",
       "    <tr>\n",
       "      <th>143702</th>\n",
       "      <td>0</td>\n",
       "      <td>0</td>\n",
       "      <td>0</td>\n",
       "      <td>0</td>\n",
       "      <td>0</td>\n",
       "      <td>0</td>\n",
       "      <td>0</td>\n",
       "      <td>0</td>\n",
       "      <td>0</td>\n",
       "      <td>1</td>\n",
       "      <td>...</td>\n",
       "      <td>0.058615</td>\n",
       "      <td>0.620370</td>\n",
       "      <td>0.348790</td>\n",
       "      <td>0.999372</td>\n",
       "      <td>0.705521</td>\n",
       "      <td>0.400000</td>\n",
       "      <td>0.229795</td>\n",
       "      <td>0.126621</td>\n",
       "      <td>0.303797</td>\n",
       "      <td>4.077537</td>\n",
       "    </tr>\n",
       "    <tr>\n",
       "      <th>143703</th>\n",
       "      <td>0</td>\n",
       "      <td>0</td>\n",
       "      <td>0</td>\n",
       "      <td>0</td>\n",
       "      <td>0</td>\n",
       "      <td>0</td>\n",
       "      <td>0</td>\n",
       "      <td>0</td>\n",
       "      <td>0</td>\n",
       "      <td>1</td>\n",
       "      <td>...</td>\n",
       "      <td>0.058615</td>\n",
       "      <td>0.614815</td>\n",
       "      <td>0.336694</td>\n",
       "      <td>1.000000</td>\n",
       "      <td>0.668712</td>\n",
       "      <td>0.290909</td>\n",
       "      <td>0.153925</td>\n",
       "      <td>0.080200</td>\n",
       "      <td>0.341772</td>\n",
       "      <td>3.815512</td>\n",
       "    </tr>\n",
       "    <tr>\n",
       "      <th>143704</th>\n",
       "      <td>0</td>\n",
       "      <td>0</td>\n",
       "      <td>0</td>\n",
       "      <td>0</td>\n",
       "      <td>0</td>\n",
       "      <td>0</td>\n",
       "      <td>0</td>\n",
       "      <td>0</td>\n",
       "      <td>0</td>\n",
       "      <td>1</td>\n",
       "      <td>...</td>\n",
       "      <td>0.058615</td>\n",
       "      <td>0.398148</td>\n",
       "      <td>0.201613</td>\n",
       "      <td>0.866290</td>\n",
       "      <td>0.680982</td>\n",
       "      <td>0.181818</td>\n",
       "      <td>0.200670</td>\n",
       "      <td>0.091027</td>\n",
       "      <td>0.329114</td>\n",
       "      <td>3.817712</td>\n",
       "    </tr>\n",
       "    <tr>\n",
       "      <th>143705</th>\n",
       "      <td>0</td>\n",
       "      <td>0</td>\n",
       "      <td>0</td>\n",
       "      <td>0</td>\n",
       "      <td>0</td>\n",
       "      <td>0</td>\n",
       "      <td>0</td>\n",
       "      <td>0</td>\n",
       "      <td>0</td>\n",
       "      <td>1</td>\n",
       "      <td>...</td>\n",
       "      <td>0.058615</td>\n",
       "      <td>0.398148</td>\n",
       "      <td>0.201613</td>\n",
       "      <td>0.866290</td>\n",
       "      <td>0.558282</td>\n",
       "      <td>0.181818</td>\n",
       "      <td>0.351245</td>\n",
       "      <td>0.273794</td>\n",
       "      <td>0.455696</td>\n",
       "      <td>3.520461</td>\n",
       "    </tr>\n",
       "  </tbody>\n",
       "</table>\n",
       "<p>143706 rows × 75 columns</p>\n",
       "</div>"
      ],
      "text/plain": [
       "        鄉鎮市區_中山區  鄉鎮市區_中正區  鄉鎮市區_信義區  鄉鎮市區_內湖區  鄉鎮市區_北投區  鄉鎮市區_南港區  鄉鎮市區_士林區  \\\n",
       "0              0         0         0         0         0         0         0   \n",
       "1              0         1         0         0         0         0         0   \n",
       "2              0         0         0         0         0         0         0   \n",
       "3              0         0         0         1         0         0         0   \n",
       "4              0         0         0         0         0         0         0   \n",
       "...          ...       ...       ...       ...       ...       ...       ...   \n",
       "143701         0         0         0         0         0         0         0   \n",
       "143702         0         0         0         0         0         0         0   \n",
       "143703         0         0         0         0         0         0         0   \n",
       "143704         0         0         0         0         0         0         0   \n",
       "143705         0         0         0         0         0         0         0   \n",
       "\n",
       "        鄉鎮市區_大同區  鄉鎮市區_大安區  鄉鎮市區_文山區  ...       出生率     移出人口率     移入人口率  \\\n",
       "0              0         1         0  ...  0.513836  0.662963  0.622984   \n",
       "1              0         0         0  ...  0.602893  0.987037  1.000000   \n",
       "2              1         0         0  ...  0.990217  0.664815  0.919355   \n",
       "3              0         0         0  ...  0.755165  0.585185  0.719758   \n",
       "4              0         0         0  ...  0.574726  0.794444  0.806452   \n",
       "...          ...       ...       ...  ...       ...       ...       ...   \n",
       "143701         0         0         1  ...  0.058615  0.620370  0.348790   \n",
       "143702         0         0         1  ...  0.058615  0.620370  0.348790   \n",
       "143703         0         0         1  ...  0.058615  0.614815  0.336694   \n",
       "143704         0         0         1  ...  0.058615  0.398148  0.201613   \n",
       "143705         0         0         1  ...  0.058615  0.398148  0.201613   \n",
       "\n",
       "        M1B(年增率)       建築年      總樓層數  土地移轉總面積(坪)  建物移轉總面積(坪)        屋齡  \\\n",
       "0       0.077841  0.570552  0.618182    0.282365    0.305855  0.341772   \n",
       "1       0.023854  0.533742  0.436364    0.123198    0.281347  0.379747   \n",
       "2       0.023854  0.460123  0.400000    0.056502    0.097608  0.455696   \n",
       "3       0.023854  0.509202  0.181818    0.471967    0.316001  0.405063   \n",
       "4       0.023854  0.656442  0.254545    0.517402    0.453935  0.253165   \n",
       "...          ...       ...       ...         ...         ...       ...   \n",
       "143701  0.999372  0.828221  0.472727    0.478812    0.627010  0.177215   \n",
       "143702  0.999372  0.705521  0.400000    0.229795    0.126621  0.303797   \n",
       "143703  1.000000  0.668712  0.290909    0.153925    0.080200  0.341772   \n",
       "143704  0.866290  0.680982  0.181818    0.200670    0.091027  0.329114   \n",
       "143705  0.866290  0.558282  0.181818    0.351245    0.273794  0.455696   \n",
       "\n",
       "         建物單價元/坪  \n",
       "0       4.147885  \n",
       "1       4.297285  \n",
       "2       3.668677  \n",
       "3       3.832980  \n",
       "4       4.087656  \n",
       "...          ...  \n",
       "143701  3.908015  \n",
       "143702  4.077537  \n",
       "143703  3.815512  \n",
       "143704  3.817712  \n",
       "143705  3.520461  \n",
       "\n",
       "[143706 rows x 75 columns]"
      ]
     },
     "execution_count": 31,
     "metadata": {},
     "output_type": "execute_result"
    }
   ],
   "source": [
    "df_data = pd.concat([df_notnum_features, df_num_features_scaler], axis=1)\n",
    "df_data"
   ]
  },
  {
   "cell_type": "code",
   "execution_count": 35,
   "metadata": {},
   "outputs": [],
   "source": [
    "df_data.to_csv('house_data-no.csv', index=False, encoding='utf-8-sig')"
   ]
  },
  {
   "cell_type": "code",
   "execution_count": null,
   "metadata": {},
   "outputs": [],
   "source": []
  }
 ],
 "metadata": {
  "kernelspec": {
   "display_name": "Python 3",
   "language": "python",
   "name": "python3"
  },
  "language_info": {
   "codemirror_mode": {
    "name": "ipython",
    "version": 3
   },
   "file_extension": ".py",
   "mimetype": "text/x-python",
   "name": "python",
   "nbconvert_exporter": "python",
   "pygments_lexer": "ipython3",
   "version": "3.8.5"
  }
 },
 "nbformat": 4,
 "nbformat_minor": 4
}
